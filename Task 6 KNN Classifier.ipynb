{
 "cells": [
  {
   "cell_type": "markdown",
   "id": "136feeef",
   "metadata": {},
   "source": [
    "# 🌼 Task 6: K-Nearest Neighbors (KNN) Classifier - Iris Dataset"
   ]
  },
  {
   "cell_type": "markdown",
   "id": "a683b5bc",
   "metadata": {},
   "source": [
    "\n",
    "This notebook implements and visualizes a **K-Nearest Neighbors (KNN)** classifier on the Iris dataset to demonstrate basic classification using distance-based learning.\n",
    "\n",
    "We will:\n",
    "- Load and preprocess the dataset\n",
    "- Normalize features\n",
    "- Train a KNN model and tune `k`\n",
    "- Evaluate performance with accuracy & confusion matrix\n",
    "- Visualize decision boundaries\n"
   ]
  },
  {
   "cell_type": "code",
   "execution_count": 4,
   "id": "83773d3c",
   "metadata": {},
   "outputs": [],
   "source": [
    "\n",
    "import numpy as np\n",
    "import pandas as pd\n",
    "import matplotlib.pyplot as plt\n",
    "import seaborn as sns\n",
    "\n",
    "from sklearn.datasets import load_iris\n",
    "from sklearn.model_selection import train_test_split\n",
    "from sklearn.preprocessing import StandardScaler\n",
    "from sklearn.neighbors import KNeighborsClassifier\n",
    "from sklearn.metrics import accuracy_score, classification_report, confusion_matrix\n"
   ]
  },
  {
   "cell_type": "code",
   "execution_count": 5,
   "id": "ac2ae67d",
   "metadata": {},
   "outputs": [
    {
     "data": {
      "text/html": [
       "<div>\n",
       "<style scoped>\n",
       "    .dataframe tbody tr th:only-of-type {\n",
       "        vertical-align: middle;\n",
       "    }\n",
       "\n",
       "    .dataframe tbody tr th {\n",
       "        vertical-align: top;\n",
       "    }\n",
       "\n",
       "    .dataframe thead th {\n",
       "        text-align: right;\n",
       "    }\n",
       "</style>\n",
       "<table border=\"1\" class=\"dataframe\">\n",
       "  <thead>\n",
       "    <tr style=\"text-align: right;\">\n",
       "      <th></th>\n",
       "      <th>sepal length (cm)</th>\n",
       "      <th>sepal width (cm)</th>\n",
       "      <th>petal length (cm)</th>\n",
       "      <th>petal width (cm)</th>\n",
       "      <th>target</th>\n",
       "      <th>target_name</th>\n",
       "    </tr>\n",
       "  </thead>\n",
       "  <tbody>\n",
       "    <tr>\n",
       "      <th>0</th>\n",
       "      <td>5.1</td>\n",
       "      <td>3.5</td>\n",
       "      <td>1.4</td>\n",
       "      <td>0.2</td>\n",
       "      <td>0</td>\n",
       "      <td>setosa</td>\n",
       "    </tr>\n",
       "    <tr>\n",
       "      <th>1</th>\n",
       "      <td>4.9</td>\n",
       "      <td>3.0</td>\n",
       "      <td>1.4</td>\n",
       "      <td>0.2</td>\n",
       "      <td>0</td>\n",
       "      <td>setosa</td>\n",
       "    </tr>\n",
       "    <tr>\n",
       "      <th>2</th>\n",
       "      <td>4.7</td>\n",
       "      <td>3.2</td>\n",
       "      <td>1.3</td>\n",
       "      <td>0.2</td>\n",
       "      <td>0</td>\n",
       "      <td>setosa</td>\n",
       "    </tr>\n",
       "    <tr>\n",
       "      <th>3</th>\n",
       "      <td>4.6</td>\n",
       "      <td>3.1</td>\n",
       "      <td>1.5</td>\n",
       "      <td>0.2</td>\n",
       "      <td>0</td>\n",
       "      <td>setosa</td>\n",
       "    </tr>\n",
       "    <tr>\n",
       "      <th>4</th>\n",
       "      <td>5.0</td>\n",
       "      <td>3.6</td>\n",
       "      <td>1.4</td>\n",
       "      <td>0.2</td>\n",
       "      <td>0</td>\n",
       "      <td>setosa</td>\n",
       "    </tr>\n",
       "  </tbody>\n",
       "</table>\n",
       "</div>"
      ],
      "text/plain": [
       "   sepal length (cm)  sepal width (cm)  petal length (cm)  petal width (cm)  \\\n",
       "0                5.1               3.5                1.4               0.2   \n",
       "1                4.9               3.0                1.4               0.2   \n",
       "2                4.7               3.2                1.3               0.2   \n",
       "3                4.6               3.1                1.5               0.2   \n",
       "4                5.0               3.6                1.4               0.2   \n",
       "\n",
       "   target target_name  \n",
       "0       0      setosa  \n",
       "1       0      setosa  \n",
       "2       0      setosa  \n",
       "3       0      setosa  \n",
       "4       0      setosa  "
      ]
     },
     "execution_count": 5,
     "metadata": {},
     "output_type": "execute_result"
    }
   ],
   "source": [
    "\n",
    "# Load Iris dataset\n",
    "iris = load_iris()\n",
    "X = iris.data\n",
    "y = iris.target\n",
    "feature_names = iris.feature_names\n",
    "target_names = iris.target_names\n",
    "\n",
    "# Convert to DataFrame\n",
    "df = pd.DataFrame(X, columns=feature_names)\n",
    "df['target'] = y\n",
    "df['target_name'] = df['target'].apply(lambda x: target_names[x])\n",
    "df.head()\n"
   ]
  },
  {
   "cell_type": "code",
   "execution_count": 6,
   "id": "7717f822",
   "metadata": {},
   "outputs": [],
   "source": [
    "\n",
    "# Normalize features\n",
    "scaler = StandardScaler()\n",
    "X_scaled = scaler.fit_transform(X)\n",
    "\n",
    "# Split\n",
    "X_train, X_test, y_train, y_test = train_test_split(\n",
    "    X_scaled, y, test_size=0.2, random_state=42\n",
    ")\n"
   ]
  },
  {
   "cell_type": "code",
   "execution_count": 7,
   "id": "c4d5a937",
   "metadata": {},
   "outputs": [],
   "source": [
    "\n",
    "# Train KNN with k=3\n",
    "knn = KNeighborsClassifier(n_neighbors=3)\n",
    "knn.fit(X_train, y_train)\n",
    "\n",
    "# Predict\n",
    "y_pred = knn.predict(X_test)\n"
   ]
  },
  {
   "cell_type": "code",
   "execution_count": 8,
   "id": "b7963e3d",
   "metadata": {},
   "outputs": [
    {
     "name": "stdout",
     "output_type": "stream",
     "text": [
      "✅ Accuracy (k=3): 1.00\n",
      "              precision    recall  f1-score   support\n",
      "\n",
      "      setosa       1.00      1.00      1.00        10\n",
      "  versicolor       1.00      1.00      1.00         9\n",
      "   virginica       1.00      1.00      1.00        11\n",
      "\n",
      "    accuracy                           1.00        30\n",
      "   macro avg       1.00      1.00      1.00        30\n",
      "weighted avg       1.00      1.00      1.00        30\n",
      "\n"
     ]
    },
    {
     "data": {
      "image/png": "[encoded data removed]",
      "text/plain": [
       "<Figure size 600x400 with 2 Axes>"
      ]
     },
     "metadata": {},
     "output_type": "display_data"
    }
   ],
   "source": [
    "\n",
    "# Accuracy & classification report\n",
    "acc = accuracy_score(y_test, y_pred)\n",
    "print(f\"✅ Accuracy (k=3): {acc:.2f}\")\n",
    "print(classification_report(y_test, y_pred, target_names=target_names))\n",
    "\n",
    "# Confusion Matrix\n",
    "cm = confusion_matrix(y_test, y_pred)\n",
    "plt.figure(figsize=(6, 4))\n",
    "sns.heatmap(cm, annot=True, fmt=\"d\", cmap=\"Greens\", xticklabels=target_names, yticklabels=target_names)\n",
    "plt.title(\"Confusion Matrix\")\n",
    "plt.xlabel(\"Predicted\")\n",
    "plt.ylabel(\"Actual\")\n",
    "plt.tight_layout()\n",
    "plt.savefig(\"confusion-matrix.png\")\n",
    "plt.show()\n"
   ]
  },
  {
   "cell_type": "code",
   "execution_count": 8,
   "id": "2d54c69c",
   "metadata": {},
   "outputs": [],
   "source": [
    "from sklearn.model_selection import train_test_split\n",
    "from sklearn.preprocessing import StandardScaler\n",
    "from sklearn.preprocessing import LabelEncoder\n",
    "\n",
    "# Load and prepare dataset\n",
    "df = pd.read_csv(\"Iris Species.csv\")\n",
    "X = df.drop('Species', axis=1)\n",
    "y = df['Species']\n",
    "\n",
    "# Encode labels\n",
    "le = LabelEncoder()\n",
    "y_encoded = le.fit_transform(y)\n",
    "\n",
    "# Scale features\n",
    "scaler = StandardScaler()\n",
    "X_scaled = scaler.fit_transform(X)\n",
    "\n",
    "# Split into train and test sets\n",
    "X_train, X_test, y_train, y_test = train_test_split(\n",
    "    X_scaled, y_encoded, test_size=0.2, random_state=42\n",
    ")\n"
   ]
  },
  {
   "cell_type": "code",
   "execution_count": 9,
   "id": "f1ac3eb8",
   "metadata": {},
   "outputs": [
    {
     "data": {
      "image/png": "[encoded data removed]",
      "text/plain": [
       "<Figure size 640x480 with 1 Axes>"
      ]
     },
     "metadata": {},
     "output_type": "display_data"
    },
    {
     "name": "stdout",
     "output_type": "stream",
     "text": [
      "🔍 Best Accuracy: 1.00 at k = 1\n"
     ]
    }
   ],
   "source": [
    "from sklearn.neighbors import KNeighborsClassifier\n",
    "from sklearn.metrics import accuracy_score\n",
    "import matplotlib.pyplot as plt\n",
    "\n",
    "k_range = range(1, 21)\n",
    "scores = []\n",
    "\n",
    "for k in k_range:\n",
    "    knn = KNeighborsClassifier(n_neighbors=k)\n",
    "    knn.fit(X_train, y_train)\n",
    "    y_k_pred = knn.predict(X_test)\n",
    "    scores.append(accuracy_score(y_test, y_k_pred))\n",
    "\n",
    "# Plot\n",
    "plt.plot(k_range, scores, marker='o')\n",
    "plt.title(\"K Value vs Accuracy\")\n",
    "plt.xlabel(\"k\")\n",
    "plt.ylabel(\"Accuracy\")\n",
    "plt.grid(True)\n",
    "plt.savefig(\"k-accuracy-curve.png\")\n",
    "plt.show()\n",
    "\n",
    "print(f\"🔍 Best Accuracy: {max(scores):.2f} at k = {scores.index(max(scores)) + 1}\")\n"
   ]
  },
  {
   "cell_type": "code",
   "execution_count": 12,
   "id": "56cd8517",
   "metadata": {},
   "outputs": [
    {
     "data": {
      "image/png": "[encoded data removed]",
      "text/plain": [
       "<Figure size 800x600 with 1 Axes>"
      ]
     },
     "metadata": {},
     "output_type": "display_data"
    }
   ],
   "source": [
    "import numpy as np\n",
    "import matplotlib.pyplot as plt\n",
    "import seaborn as sns\n",
    "from sklearn.preprocessing import LabelEncoder, StandardScaler\n",
    "from sklearn.model_selection import train_test_split\n",
    "from sklearn.neighbors import KNeighborsClassifier\n",
    "import pandas as pd\n",
    "\n",
    "# Load dataset\n",
    "df = pd.read_csv(\"Iris Species.csv\")\n",
    "X = df.drop(\"Species\", axis=1)\n",
    "y = df[\"Species\"]\n",
    "\n",
    "# Encode target labels\n",
    "le = LabelEncoder()\n",
    "y_encoded = le.fit_transform(y)\n",
    "\n",
    "# Use first 2 features for 2D plotting\n",
    "X_2d = X.iloc[:, :2]\n",
    "\n",
    "# Scale features\n",
    "scaler = StandardScaler()\n",
    "X_2d_scaled = scaler.fit_transform(X_2d)\n",
    "\n",
    "# Train-test split\n",
    "X_train2d, X_test2d, y_train2d, y_test2d = train_test_split(\n",
    "    X_2d_scaled, y_encoded, test_size=0.2, random_state=42\n",
    ")\n",
    "\n",
    "# Train KNN\n",
    "knn_2d = KNeighborsClassifier(n_neighbors=5)\n",
    "knn_2d.fit(X_train2d, y_train2d)\n",
    "\n",
    "# Set up mesh grid\n",
    "h = 0.02\n",
    "x_min, x_max = X_2d_scaled[:, 0].min() - 1, X_2d_scaled[:, 0].max() + 1\n",
    "y_min, y_max = X_2d_scaled[:, 1].min() - 1, X_2d_scaled[:, 1].max() + 1\n",
    "xx, yy = np.meshgrid(np.arange(x_min, x_max, h),\n",
    "                     np.arange(y_min, y_max, h))\n",
    "\n",
    "# Predict over mesh\n",
    "Z = knn_2d.predict(np.c_[xx.ravel(), yy.ravel()])\n",
    "\n",
    "# Convert to numeric if class names are returned\n",
    "if isinstance(Z[0], str):\n",
    "    Z = le.transform(Z)\n",
    "\n",
    "Z = Z.reshape(xx.shape)\n",
    "\n",
    "# Plot decision boundary\n",
    "plt.figure(figsize=(8, 6))\n",
    "plt.contourf(xx, yy, Z, cmap=plt.cm.Pastel1, alpha=0.8)\n",
    "\n",
    "# Scatter plot of real points\n",
    "sns.scatterplot(\n",
    "    x=X_2d_scaled[:, 0],\n",
    "    y=X_2d_scaled[:, 1],\n",
    "    hue=le.inverse_transform(y_encoded),\n",
    "    palette='Set1',\n",
    "    edgecolor='k'\n",
    ")\n",
    "\n",
    "plt.xlabel(X.columns[0])\n",
    "plt.ylabel(X.columns[1])\n",
    "plt.title(\"Decision Boundary (2D) - KNN\")\n",
    "plt.tight_layout()\n",
    "plt.savefig(\"decision-boundary.png\", dpi=300)\n",
    "plt.show()\n"
   ]
  },
  {
   "cell_type": "code",
   "execution_count": 1,
   "id": "b943769a",
   "metadata": {},
   "outputs": [
    {
     "data": {
      "application/vnd.plotly.v1+json": {
       "config": {
        "plotlyServerURL": "https://plot.ly"
       },
       "data": [
        {
         "hovertemplate": "Species=Iris-setosa<br>Feature1=%{x}<br>Feature2=%{y}<br>Feature3=%{z}<extra></extra>",
         "legendgroup": "Iris-setosa",
         "marker": {
          "color": "#636efa",
          "opacity": 0.8,
          "size": 5,
          "symbol": "circle"
         },
         "mode": "markers",
         "name": "Iris-setosa",
         "scene": "scene",
         "showlegend": true,
         "type": "scatter3d",
         "x": {
          "bdata": "xoE8FleH+7+hyyi5vij7v3wVFVwmyvq/V18B/41r+r8yqe2h9Qz6vw3z2URdrvm/6DzG58RP+b/DhrKKLPH4v57Qni2Ukvi/eRqL0Psz+L9UZHdzY9X3vy+uYxbLdve/CvhPuTIY97/lQTxcmrn2v8CLKP8BW/a/m9UUomn89b92HwFF0Z31v1Fp7ec4P/W/LLPZiqDg9L8H/cUtCIL0v+JGstBvI/S/vZCec9fE87+Y2ooWP2bzv3Mkd7mmB/O/TW5jXA6p8r8ouE//dUryvwMCPKLd6/G/3ksoRUWN8b+5lRTorC7xv5TfAIsU0PC/byntLXxx8L9Kc9nQ4xLwv0t6i+eWaO+/AQ5kLWar7r+3oTxzNe7tv201FbkEMe2/I8nt/tNz7L/YXMZEo7brv47wnopy+eq/RIR30EE86r/6F1AWEX/pv7CrKFzgwei/Zj8Boq8E6L8c09nnfkfnv9Jmsi1Oiua/iPqKcx3N5b8+jmO57A/lv/QhPP+7UuS/qrUURYuV479gSe2KWtjivw==",
          "dtype": "f8"
         },
         "y": {
          "bdata": "xKpRUWHS7L8vCsUZzEnyvwE/4YpnKva/bFlvQ7Ua+L/I7zZhflnwv0kM/f2OMOG/bFlvQ7Ua+L/I7zZhflnwvzmOi7RQ+/u/LwrFGcxJ8r9JDP39jjDhv5okU9IZOvS/miRT0hk69L+lqBltnuv9v7WQw5gT4qq/YbehqvI6xr9JDP39jjDhv8SqUVFh0uy/YbehqvI6xr/EqlFRYdLsv0kM/f2OMOG/xKpRUWHS7L9sWW9DtRr4v8SqUVFh0uy/miRT0hk69L/I7zZhflnwv8jvNmF+WfC/7XU14MXx6L/tdTXgxfHovwE/4YpnKva/miRT0hk69L9JDP39jjDhv+11NeDF8ei/+K7BGeef2r8vCsUZzEnyv8jvNmF+WfC/+K7BGeef2r8vCsUZzEnyvzmOi7RQ+/u/xKpRUWHS7L/I7zZhflnwv9Nz/fsCC/q/OY6LtFD7+7/I7zZhflnwv8SqUVFh0uy/miRT0hk69L/EqlFRYdLsv2xZb0O1Gvi/IEEZbyoR5b/I7zZhflnwvw==",
          "dtype": "f8"
         },
         "z": {
          "bdata": "VX2sb06D8D+82WqqOP2/v0yOHZlOn9U/uq8F3QBAuz/shSMIIjf0P66fiNGcUv8/e+lqrvWe6T976Wqu9Z7pP83Ydoyczta/uq8F3QBAuz+Djpqg9er3P3vpaq71nuk/vNlqqjj9v7+82WqqOP2/vyPU/zQ4gwFAUeXtZd/qCECun4jRnFL/P1V9rG9Og/A/FpcROcme+z8WlxE5yZ77P3vpaq71nuk/g46aoPXq9z/shSMIIjf0P0zYfH1ON+I/e+lqrvWe6T+82WqqOP2/v3vpaq71nuk/VX2sb06D8D976Wqu9Z7pP0yOHZlOn9U/uq8F3QBAuz976Wqu9Z7pP2xYOwEiXQNAutx2zQs3BUC6rwXdAEC7P0yOHZlOn9U/VX2sb06D8D+6rwXdAEC7P7zZaqo4/b+/e+lqrvWe6T9VfaxvToPwP7vp57Wc6vu/TI4dmU6f1T9VfaxvToPwPxaXETnJnvs/vNlqqjj9v78WlxE5yZ77P0yOHZlOn9U/g46aoPXq9z9M2Hx9TjfiPw==",
          "dtype": "f8"
         }
        },
        {
         "hovertemplate": "Species=Iris-versicolor<br>Feature1=%{x}<br>Feature2=%{y}<br>Feature3=%{z}<extra></extra>",
         "legendgroup": "Iris-versicolor",
         "marker": {
          "color": "#EF553B",
          "opacity": 0.8,
          "size": 5,
          "symbol": "circle"
         },
         "mode": "markers",
         "name": "Iris-versicolor",
         "scene": "scene",
         "showlegend": true,
         "type": "scatter3d",
         "x": {
          "bdata": "Ft3F0Ckb4r/McJ4W+V3hv4IEd1zIoOC/cDCfRC/H37/cV1DQzUzev0h/AVxs0ty/s6ay5wpY278fzmNzqd3Zv4v1FP9HY9i/9xzGiubo1r9jRHcWhW7Vv89rKKIj9NO/O5PZLcJ50r+nuoq5YP/QvybEd4r+Cc+//RLaoTsVzL/VYTy5eCDJv62wntC1K8a/hf8A6PI2w79dTmP/L0LAv2k6iy3amrq/GdhPXFSxtL+S6ygWnY+tv/EmsnORvKG/QYntRBemh79Bie1EF6aHP/EmsnORvKE/kusoFp2PrT8Z2E9cVLG0P2k6iy3amro/XU5j/y9CwD+F/wDo8jbDP62wntC1K8Y/1WE8uXggyT/9EtqhOxXMPybEd4r+Cc8/p7qKuWD/0D87k9ktwnnSP89rKKIj9NM/Y0R3FoVu1T/3HMaK5ujWP4v1FP9HY9g/H85jc6nd2T+zprLnCljbP0h/AVxs0tw/3FdQ0M1M3j9wMJ9EL8ffP4IEd1zIoOA/zHCeFvld4T8W3cXQKRviPw==",
          "dtype": "f8"
         },
         "y": {
          "bdata": "YSDjCZRs9j/gAx1tg5XlP/oFVVFGfPQ/+K7BGeef2r+tODneHnbpP2G3oaryOsa/Cc8A/Oe04T8vCsUZzEnyv3ptVU+6Vu0/7XU14MXx6L/I7zZhflnwv1zef7zRk7E/YsKwolZMyD/LypAzYufTP15FiTew3tK/KdE44Kqb8D9eRYk3sN7Sv7WQw5gT4qq/eTTJFZmo2z9eRYk3sN7Sv1zef7zRk7E/y8qQM2Ln0z8JzwD857ThP8vKkDNi59M/4AMdbYOV5T96bVVPulbtP4/rxpj4i/I/KdE44Kqb8D9iwrCiVkzIP2G3oaryOsa/+K7BGeef2r/4rsEZ55/av7WQw5gT4qq/YsKwolZMyD9JDP39jjDhv2LCsKJWTMg/KdE44Kqb8D8JzwD857ThP15FiTew3tK/+K7BGeef2r/4rsEZ55/av8vKkDNi59M/tZDDmBPiqr/I7zZhflnwv15FiTew3tK/YbehqvI6xr9ht6Gq8jrGv3k0yRWZqNs/xKpRUWHS7L9ht6Gq8jrGvw==",
          "dtype": "f8"
         },
         "z": {
          "bdata": "TI4dmU6f1T9Mjh2ZTp/VP7qvBd0AQLs/u+nntZzq+7+VfSl39c7iv5V9KXf1zuK/TNh8fU434j8k4XAdyTb4v83Ydoyczta/u44XqJw26r++gaa/C4MDwLzZaqo4/b+/TvJeTnCe/7/N2HaMnM7Wv83Ydoyczta/uq8F3QBAuz+82WqqOP2/v7uOF6icNuq/TvJeTnCe/7+M2PmE9YL0v0yOHZlOn9U/lX0pd/XO4r+M2PmE9YL0v5V9KXf1zuK/zdh2jJzO1r+82WqqOP2/v5V9KXf1zuK/vNlqqjj9v7/N2HaMnM7Wv/XPguwhz/C/JOFwHck2+L8k4XAdyTb4v7uOF6icNuq/u44XqJw26r+82WqqOP2/v3vpaq71nuk/uq8F3QBAuz+76ee1nOr7v7zZaqo4/b+/jNj5hPWC9L/1z4LsIc/wv7zZaqo4/b+/9c+C7CHP8L+76ee1nOr7v7uOF6icNuq/vNlqqjj9v7/N2HaMnM7Wv83Ydoyczta/jNj5hPWC9L+VfSl39c7ivw==",
          "dtype": "f8"
         }
        },
        {
         "hovertemplate": "Species=Iris-virginica<br>Feature1=%{x}<br>Feature2=%{y}<br>Feature3=%{z}<extra></extra>",
         "legendgroup": "Iris-virginica",
         "marker": {
          "color": "#00cc96",
          "opacity": 0.8,
          "size": 5,
          "symbol": "circle"
         },
         "mode": "markers",
         "name": "Iris-virginica",
         "scene": "scene",
         "showlegend": true,
         "type": "scatter3d",
         "x": {
          "bdata": "YEntilrY4j+qtRRFi5XjP/QhPP+7UuQ/Po5juewP5T+I+opzHc3lP9Jmsi1OiuY/HNPZ535H5z9mPwGirwToP7CrKFzgweg/+hdQFhF/6T9EhHfQQTzqP47wnopy+eo/2FzGRKO26z8jye3+03PsP201FbkEMe0/t6E8czXu7T8BDmQtZqvuP0t6i+eWaO8/SnPZ0OMS8D9vKe0tfHHwP5TfAIsU0PA/uZUU6Kwu8T/eSyhFRY3xPwMCPKLd6/E/KLhP/3VK8j9NbmNcDqnyP3Mkd7mmB/M/mNqKFj9m8z+9kJ5z18TzP+JGstBvI/Q/B/3FLQiC9D8ss9mKoOD0P1Fp7ec4P/U/dh8BRdGd9T+b1RSiafz1P8CLKP8BW/Y/5UE8XJq59j8K+E+5Mhj3Py+uYxbLdvc/VGR3c2PV9z95GovQ+zP4P57Qni2Ukvg/w4ayiizx+D/oPMbnxE/5Pw3z2URdrvk/MqntofUM+j9XXwH/jWv6P3wVFVwmyvo/ocsoub4o+z/GgTwWV4f7Pw==",
          "dtype": "f8"
         },
         "y": {
          "bdata": "Cc8A/Oe04T+1kMOYE+Kqv8g6ccLhXPg/Cc8A/Oe04T+tODneHnbpP2nfmy4zBwFALwrFGcxJ8r+Zb40zfT38PynROOCqm/A/M1X/ei9N+j+tODneHnbpP+ADHW2DleU/j+vGmPiL8j9ht6Gq8jrGv7WQw5gT4qq/4AMdbYOV5T+tODneHnbpP5/s4gpa/wFAn+ziClr/AUBiwrCiVkzIP/oFVVFGfPQ/XkWJN7De0r+f7OIKWv8BQAnPAPzntOE/KdE44Kqb8D8zVf96L036P3k0yRWZqNs/y8qQM2Ln0z/gAx1tg5XlPzNV/3ovTfo/BYob7Mot/j8IB3HDp+8DQOADHW2DleU/Cc8A/Oe04T/LypAzYufTP5/s4gpa/wFACc8A/Oe04T/gAx1tg5XlP2LCsKJWTMg/+gVVUUZ89D8p0TjgqpvwP/oFVVFGfPQ/tZDDmBPiqr+P68aY+IvyPynROOCqm/A/KdE44Kqb8D8JzwD857ThP604Od4eduk/eTTJFZmo2z9c3n+80ZOxPw==",
          "dtype": "f8"
         },
         "z": {
          "bdata": "TNh8fU434j+7jheonDbqv7zZaqo4/b+/zdh2jJzO1r+82WqqOP2/v7zZaqo4/b+/jNj5hPWC9L/N2HaMnM7Wv4zY+YT1gvS/7IUjCCI39D9Mjh2ZTp/VP7uOF6icNuq/vNlqqjj9v7+M2PmE9YL0v5V9KXf1zuK/TI4dmU6f1T+82WqqOP2/vxaXETnJnvs/9c+C7CHP8L9O8l5OcJ7/v0yOHZlOn9U/lX0pd/XO4r+VfSl39c7iv7uOF6icNuq/TNh8fU434j9Mjh2ZTp/VP5V9KXf1zuK/vNlqqjj9v7+VfSl39c7iv7zZaqo4/b+/lX0pd/XO4r8WlxE5yZ77P5V9KXf1zuK/lX0pd/XO4r/1z4LsIc/wv7zZaqo4/b+/e+lqrvWe6T+6rwXdAEC7P7zZaqo4/b+/uq8F3QBAuz+6rwXdAEC7P7qvBd0AQLs/u44XqJw26r9Mjh2ZTp/VP0zYfH1ON+I/vNlqqjj9v7+M2PmE9YL0v7zZaqo4/b+/e+lqrvWe6T+82WqqOP2/vw==",
          "dtype": "f8"
         }
        }
       ],
       "layout": {
        "legend": {
         "title": {
          "text": "Species"
         },
         "tracegroupgap": 0
        },
        "margin": {
         "b": 0,
         "l": 0,
         "r": 0,
         "t": 40
        },
        "scene": {
         "domain": {
          "x": [
           0,
           1
          ],
          "y": [
           0,
           1
          ]
         },
         "xaxis": {
          "title": {
           "text": "Feature1"
          }
         },
         "yaxis": {
          "title": {
           "text": "Feature2"
          }
         },
         "zaxis": {
          "title": {
           "text": "Feature3"
          }
         }
        },
        "template": {
         "data": {
          "bar": [
           {
            "error_x": {
             "color": "#2a3f5f"
            },
            "error_y": {
             "color": "#2a3f5f"
            },
            "marker": {
             "line": {
              "color": "#E5ECF6",
              "width": 0.5
             },
             "pattern": {
              "fillmode": "overlay",
              "size": 10,
              "solidity": 0.2
             }
            },
            "type": "bar"
           }
          ],
          "barpolar": [
           {
            "marker": {
             "line": {
              "color": "#E5ECF6",
              "width": 0.5
             },
             "pattern": {
              "fillmode": "overlay",
              "size": 10,
              "solidity": 0.2
             }
            },
            "type": "barpolar"
           }
          ],
          "carpet": [
           {
            "aaxis": {
             "endlinecolor": "#2a3f5f",
             "gridcolor": "white",
             "linecolor": "white",
             "minorgridcolor": "white",
             "startlinecolor": "#2a3f5f"
            },
            "baxis": {
             "endlinecolor": "#2a3f5f",
             "gridcolor": "white",
             "linecolor": "white",
             "minorgridcolor": "white",
             "startlinecolor": "#2a3f5f"
            },
            "type": "carpet"
           }
          ],
          "choropleth": [
           {
            "colorbar": {
             "outlinewidth": 0,
             "ticks": ""
            },
            "type": "choropleth"
           }
          ],
          "contour": [
           {
            "colorbar": {
             "outlinewidth": 0,
             "ticks": ""
            },
            "colorscale": [
             [
              0,
              "#0d0887"
             ],
             [
              0.1111111111111111,
              "#46039f"
             ],
             [
              0.2222222222222222,
              "#7201a8"
             ],
             [
              0.3333333333333333,
              "#9c179e"
             ],
             [
              0.4444444444444444,
              "#bd3786"
             ],
             [
              0.5555555555555556,
              "#d8576b"
             ],
             [
              0.6666666666666666,
              "#ed7953"
             ],
             [
              0.7777777777777778,
              "#fb9f3a"
             ],
             [
              0.8888888888888888,
              "#fdca26"
             ],
             [
              1,
              "#f0f921"
             ]
            ],
            "type": "contour"
           }
          ],
          "contourcarpet": [
           {
            "colorbar": {
             "outlinewidth": 0,
             "ticks": ""
            },
            "type": "contourcarpet"
           }
          ],
          "heatmap": [
           {
            "colorbar": {
             "outlinewidth": 0,
             "ticks": ""
            },
            "colorscale": [
             [
              0,
              "#0d0887"
             ],
             [
              0.1111111111111111,
              "#46039f"
             ],
             [
              0.2222222222222222,
              "#7201a8"
             ],
             [
              0.3333333333333333,
              "#9c179e"
             ],
             [
              0.4444444444444444,
              "#bd3786"
             ],
             [
              0.5555555555555556,
              "#d8576b"
             ],
             [
              0.6666666666666666,
              "#ed7953"
             ],
             [
              0.7777777777777778,
              "#fb9f3a"
             ],
             [
              0.8888888888888888,
              "#fdca26"
             ],
             [
              1,
              "#f0f921"
             ]
            ],
            "type": "heatmap"
           }
          ],
          "histogram": [
           {
            "marker": {
             "pattern": {
              "fillmode": "overlay",
              "size": 10,
              "solidity": 0.2
             }
            },
            "type": "histogram"
           }
          ],
          "histogram2d": [
           {
            "colorbar": {
             "outlinewidth": 0,
             "ticks": ""
            },
            "colorscale": [
             [
              0,
              "#0d0887"
             ],
             [
              0.1111111111111111,
              "#46039f"
             ],
             [
              0.2222222222222222,
              "#7201a8"
             ],
             [
              0.3333333333333333,
              "#9c179e"
             ],
             [
              0.4444444444444444,
              "#bd3786"
             ],
             [
              0.5555555555555556,
              "#d8576b"
             ],
             [
              0.6666666666666666,
              "#ed7953"
             ],
             [
              0.7777777777777778,
              "#fb9f3a"
             ],
             [
              0.8888888888888888,
              "#fdca26"
             ],
             [
              1,
              "#f0f921"
             ]
            ],
            "type": "histogram2d"
           }
          ],
          "histogram2dcontour": [
           {
            "colorbar": {
             "outlinewidth": 0,
             "ticks": ""
            },
            "colorscale": [
             [
              0,
              "#0d0887"
             ],
             [
              0.1111111111111111,
              "#46039f"
             ],
             [
              0.2222222222222222,
              "#7201a8"
             ],
             [
              0.3333333333333333,
              "#9c179e"
             ],
             [
              0.4444444444444444,
              "#bd3786"
             ],
             [
              0.5555555555555556,
              "#d8576b"
             ],
             [
              0.6666666666666666,
              "#ed7953"
             ],
             [
              0.7777777777777778,
              "#fb9f3a"
             ],
             [
              0.8888888888888888,
              "#fdca26"
             ],
             [
              1,
              "#f0f921"
             ]
            ],
            "type": "histogram2dcontour"
           }
          ],
          "mesh3d": [
           {
            "colorbar": {
             "outlinewidth": 0,
             "ticks": ""
            },
            "type": "mesh3d"
           }
          ],
          "parcoords": [
           {
            "line": {
             "colorbar": {
              "outlinewidth": 0,
              "ticks": ""
             }
            },
            "type": "parcoords"
           }
          ],
          "pie": [
           {
            "automargin": true,
            "type": "pie"
           }
          ],
          "scatter": [
           {
            "fillpattern": {
             "fillmode": "overlay",
             "size": 10,
             "solidity": 0.2
            },
            "type": "scatter"
           }
          ],
          "scatter3d": [
           {
            "line": {
             "colorbar": {
              "outlinewidth": 0,
              "ticks": ""
             }
            },
            "marker": {
             "colorbar": {
              "outlinewidth": 0,
              "ticks": ""
             }
            },
            "type": "scatter3d"
           }
          ],
          "scattercarpet": [
           {
            "marker": {
             "colorbar": {
              "outlinewidth": 0,
              "ticks": ""
             }
            },
            "type": "scattercarpet"
           }
          ],
          "scattergeo": [
           {
            "marker": {
             "colorbar": {
              "outlinewidth": 0,
              "ticks": ""
             }
            },
            "type": "scattergeo"
           }
          ],
          "scattergl": [
           {
            "marker": {
             "colorbar": {
              "outlinewidth": 0,
              "ticks": ""
             }
            },
            "type": "scattergl"
           }
          ],
          "scattermap": [
           {
            "marker": {
             "colorbar": {
              "outlinewidth": 0,
              "ticks": ""
             }
            },
            "type": "scattermap"
           }
          ],
          "scattermapbox": [
           {
            "marker": {
             "colorbar": {
              "outlinewidth": 0,
              "ticks": ""
             }
            },
            "type": "scattermapbox"
           }
          ],
          "scatterpolar": [
           {
            "marker": {
             "colorbar": {
              "outlinewidth": 0,
              "ticks": ""
             }
            },
            "type": "scatterpolar"
           }
          ],
          "scatterpolargl": [
           {
            "marker": {
             "colorbar": {
              "outlinewidth": 0,
              "ticks": ""
             }
            },
            "type": "scatterpolargl"
           }
          ],
          "scatterternary": [
           {
            "marker": {
             "colorbar": {
              "outlinewidth": 0,
              "ticks": ""
             }
            },
            "type": "scatterternary"
           }
          ],
          "surface": [
           {
            "colorbar": {
             "outlinewidth": 0,
             "ticks": ""
            },
            "colorscale": [
             [
              0,
              "#0d0887"
             ],
             [
              0.1111111111111111,
              "#46039f"
             ],
             [
              0.2222222222222222,
              "#7201a8"
             ],
             [
              0.3333333333333333,
              "#9c179e"
             ],
             [
              0.4444444444444444,
              "#bd3786"
             ],
             [
              0.5555555555555556,
              "#d8576b"
             ],
             [
              0.6666666666666666,
              "#ed7953"
             ],
             [
              0.7777777777777778,
              "#fb9f3a"
             ],
             [
              0.8888888888888888,
              "#fdca26"
             ],
             [
              1,
              "#f0f921"
             ]
            ],
            "type": "surface"
           }
          ],
          "table": [
           {
            "cells": {
             "fill": {
              "color": "#EBF0F8"
             },
             "line": {
              "color": "white"
             }
            },
            "header": {
             "fill": {
              "color": "#C8D4E3"
             },
             "line": {
              "color": "white"
             }
            },
            "type": "table"
           }
          ]
         },
         "layout": {
          "annotationdefaults": {
           "arrowcolor": "#2a3f5f",
           "arrowhead": 0,
           "arrowwidth": 1
          },
          "autotypenumbers": "strict",
          "coloraxis": {
           "colorbar": {
            "outlinewidth": 0,
            "ticks": ""
           }
          },
          "colorscale": {
           "diverging": [
            [
             0,
             "#8e0152"
            ],
            [
             0.1,
             "#c51b7d"
            ],
            [
             0.2,
             "#de77ae"
            ],
            [
             0.3,
             "#f1b6da"
            ],
            [
             0.4,
             "#fde0ef"
            ],
            [
             0.5,
             "#f7f7f7"
            ],
            [
             0.6,
             "#e6f5d0"
            ],
            [
             0.7,
             "#b8e186"
            ],
            [
             0.8,
             "#7fbc41"
            ],
            [
             0.9,
             "#4d9221"
            ],
            [
             1,
             "#276419"
            ]
           ],
           "sequential": [
            [
             0,
             "#0d0887"
            ],
            [
             0.1111111111111111,
             "#46039f"
            ],
            [
             0.2222222222222222,
             "#7201a8"
            ],
            [
             0.3333333333333333,
             "#9c179e"
            ],
            [
             0.4444444444444444,
             "#bd3786"
            ],
            [
             0.5555555555555556,
             "#d8576b"
            ],
            [
             0.6666666666666666,
             "#ed7953"
            ],
            [
             0.7777777777777778,
             "#fb9f3a"
            ],
            [
             0.8888888888888888,
             "#fdca26"
            ],
            [
             1,
             "#f0f921"
            ]
           ],
           "sequentialminus": [
            [
             0,
             "#0d0887"
            ],
            [
             0.1111111111111111,
             "#46039f"
            ],
            [
             0.2222222222222222,
             "#7201a8"
            ],
            [
             0.3333333333333333,
             "#9c179e"
            ],
            [
             0.4444444444444444,
             "#bd3786"
            ],
            [
             0.5555555555555556,
             "#d8576b"
            ],
            [
             0.6666666666666666,
             "#ed7953"
            ],
            [
             0.7777777777777778,
             "#fb9f3a"
            ],
            [
             0.8888888888888888,
             "#fdca26"
            ],
            [
             1,
             "#f0f921"
            ]
           ]
          },
          "colorway": [
           "#636efa",
           "#EF553B",
           "#00cc96",
           "#ab63fa",
           "#FFA15A",
           "#19d3f3",
           "#FF6692",
           "#B6E880",
           "#FF97FF",
           "#FECB52"
          ],
          "font": {
           "color": "#2a3f5f"
          },
          "geo": {
           "bgcolor": "white",
           "lakecolor": "white",
           "landcolor": "#E5ECF6",
           "showlakes": true,
           "showland": true,
           "subunitcolor": "white"
          },
          "hoverlabel": {
           "align": "left"
          },
          "hovermode": "closest",
          "mapbox": {
           "style": "light"
          },
          "paper_bgcolor": "white",
          "plot_bgcolor": "#E5ECF6",
          "polar": {
           "angularaxis": {
            "gridcolor": "white",
            "linecolor": "white",
            "ticks": ""
           },
           "bgcolor": "#E5ECF6",
           "radialaxis": {
            "gridcolor": "white",
            "linecolor": "white",
            "ticks": ""
           }
          },
          "scene": {
           "xaxis": {
            "backgroundcolor": "#E5ECF6",
            "gridcolor": "white",
            "gridwidth": 2,
            "linecolor": "white",
            "showbackground": true,
            "ticks": "",
            "zerolinecolor": "white"
           },
           "yaxis": {
            "backgroundcolor": "#E5ECF6",
            "gridcolor": "white",
            "gridwidth": 2,
            "linecolor": "white",
            "showbackground": true,
            "ticks": "",
            "zerolinecolor": "white"
           },
           "zaxis": {
            "backgroundcolor": "#E5ECF6",
            "gridcolor": "white",
            "gridwidth": 2,
            "linecolor": "white",
            "showbackground": true,
            "ticks": "",
            "zerolinecolor": "white"
           }
          },
          "shapedefaults": {
           "line": {
            "color": "#2a3f5f"
           }
          },
          "ternary": {
           "aaxis": {
            "gridcolor": "white",
            "linecolor": "white",
            "ticks": ""
           },
           "baxis": {
            "gridcolor": "white",
            "linecolor": "white",
            "ticks": ""
           },
           "bgcolor": "#E5ECF6",
           "caxis": {
            "gridcolor": "white",
            "linecolor": "white",
            "ticks": ""
           }
          },
          "title": {
           "x": 0.05
          },
          "xaxis": {
           "automargin": true,
           "gridcolor": "white",
           "linecolor": "white",
           "ticks": "",
           "title": {
            "standoff": 15
           },
           "zerolinecolor": "white",
           "zerolinewidth": 2
          },
          "yaxis": {
           "automargin": true,
           "gridcolor": "white",
           "linecolor": "white",
           "ticks": "",
           "title": {
            "standoff": 15
           },
           "zerolinecolor": "white",
           "zerolinewidth": 2
          }
         }
        },
        "title": {
         "text": "🌐 3D Scatter Plot of Iris Dataset (First 3 Features)"
        }
       }
      }
     },
     "metadata": {},
     "output_type": "display_data"
    }
   ],
   "source": [
    "import pandas as pd\n",
    "import plotly.express as px\n",
    "from sklearn.preprocessing import LabelEncoder, StandardScaler\n",
    "\n",
    "# Load the dataset\n",
    "df = pd.read_csv(\"Iris Species.csv\")\n",
    "X = df.drop('Species', axis=1)\n",
    "y = df['Species']\n",
    "\n",
    "# Encode species names to integers\n",
    "le = LabelEncoder()\n",
    "y_encoded = le.fit_transform(y)\n",
    "\n",
    "# Scale the features\n",
    "scaler = StandardScaler()\n",
    "X_scaled = scaler.fit_transform(X)\n",
    "\n",
    "# Use first 3 features (e.g., SepalLengthCm, SepalWidthCm, PetalLengthCm)\n",
    "X_3d = X_scaled[:, :3]  # only first 3 features\n",
    "\n",
    "# Create DataFrame for plotting\n",
    "df_3d = pd.DataFrame(X_3d, columns=['Feature1', 'Feature2', 'Feature3'])\n",
    "df_3d['Species'] = le.inverse_transform(y_encoded)\n",
    "\n",
    "# Plot with Plotly\n",
    "fig = px.scatter_3d(\n",
    "    df_3d,\n",
    "    x='Feature1', y='Feature2', z='Feature3',\n",
    "    color='Species',\n",
    "    title=\"🌐 3D Scatter Plot of Iris Dataset (First 3 Features)\",\n",
    "    opacity=0.8\n",
    ")\n",
    "\n",
    "fig.update_traces(marker=dict(size=5))\n",
    "fig.update_layout(margin=dict(l=0, r=0, b=0, t=40))\n",
    "fig.show()\n",
    "\n",
    "# Optional: Save image (requires `pip install kaleido`)\n",
    "fig.write_image(\"3d-knn-iris.png\", width=800, height=600)\n"
   ]
  },
  {
   "cell_type": "code",
   "execution_count": 2,
   "id": "ddbe6141",
   "metadata": {},
   "outputs": [],
   "source": [
    "# Save the 3D plot as HTML\n",
    "fig.write_html(\"3d-knn-plot.html\")"
   ]
  },
  {
   "cell_type": "markdown",
   "id": "a3e388dd",
   "metadata": {},
   "source": [
    "\n",
    "## ✅ Summary\n",
    "\n",
    "- KNN works by finding the majority class among K nearest points.\n",
    "- Normalization is important to ensure fair distance comparison.\n",
    "- Best `k` value found via experimentation.\n",
    "\n",
    "---\n",
    "\n",
    "## 🎯 Interview Questions\n",
    "\n",
    "1. How does the KNN algorithm work?\n",
    "2. Why is normalization important in KNN?\n",
    "3. How to choose the best `k` value?\n",
    "4. What is the time complexity of KNN?\n",
    "5. What are the pros and cons of KNN?\n",
    "6. How does KNN handle multi-class classification?\n",
    "7. What distance metrics can be used with KNN?\n",
    "\n",
    "---\n"
   ]
  }
 ],
 "metadata": {
  "kernelspec": {
   "display_name": "Python (Task 6)",
   "language": "python",
   "name": "task6-env"
  },
  "language_info": {
   "codemirror_mode": {
    "name": "ipython",
    "version": 3
   },
   "file_extension": ".py",
   "mimetype": "text/x-python",
   "name": "python",
   "nbconvert_exporter": "python",
   "pygments_lexer": "ipython3",
   "version": "3.13.3"
  }
 },
 "nbformat": 4,
 "nbformat_minor": 5
}
